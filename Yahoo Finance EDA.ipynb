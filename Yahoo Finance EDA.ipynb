{
 "cells": [
  {
   "cell_type": "code",
   "execution_count": 1,
   "id": "45f6e372",
   "metadata": {},
   "outputs": [],
   "source": [
    "import pandas as pd\n",
    "import numpy as np\n",
    "import yahoo_fin.stock_info as si"
   ]
  },
  {
   "cell_type": "code",
   "execution_count": null,
   "id": "64d0e734",
   "metadata": {},
   "outputs": [],
   "source": [
    "# Indices\n",
    "RUSSEL2000_IDX = '^RUT'\n",
    "MSCI_SMALLCAP_IDX = '11ZI.BE'\n",
    "SP_SMALLCAP600_IDX = 'IJS'"
   ]
  },
  {
   "cell_type": "code",
   "execution_count": 3,
   "id": "b68e5a16",
   "metadata": {
    "scrolled": false
   },
   "outputs": [
    {
     "name": "stderr",
     "output_type": "stream",
     "text": [
      "C:\\Users\\zeeze\\miniconda3\\envs\\hcf\\lib\\site-packages\\yahoo_fin\\stock_info.py:295: FutureWarning: The frame.append method is deprecated and will be removed from pandas in a future version. Use pandas.concat instead.\n",
      "  data = tables[0].append(tables[1])\n",
      "C:\\Users\\zeeze\\miniconda3\\envs\\hcf\\lib\\site-packages\\yahoo_fin\\stock_info.py:302: FutureWarning: The frame.append method is deprecated and will be removed from pandas in a future version. Use pandas.concat instead.\n",
      "  data = data.append(quote_price)\n"
     ]
    },
    {
     "data": {
      "text/plain": [
       "{'52 Week Range': '53.49 - 54.67',\n",
       " 'Ask': '0.00 x 232900',\n",
       " 'Avg. Volume': nan,\n",
       " 'Beta (5Y Monthly)': nan,\n",
       " 'Bid': '0.00 x 243700',\n",
       " \"Day's Range\": '53.49 - 54.67',\n",
       " 'Expense Ratio (net)': nan,\n",
       " 'Inception Date': nan,\n",
       " 'NAV': nan,\n",
       " 'Net Assets': nan,\n",
       " 'Open': 53.49,\n",
       " 'PE Ratio (TTM)': nan,\n",
       " 'Previous Close': 53.4,\n",
       " 'Quote Price': 54.54999923706055,\n",
       " 'Volume': 664.0,\n",
       " 'YTD Daily Total Return': nan,\n",
       " 'Yield': nan}"
      ]
     },
     "execution_count": 3,
     "metadata": {},
     "output_type": "execute_result"
    }
   ],
   "source": [
    "si.get_quote_table('11ZI.BE')"
   ]
  },
  {
   "cell_type": "code",
   "execution_count": null,
   "id": "d0fb5f2f",
   "metadata": {},
   "outputs": [],
   "source": []
  }
 ],
 "metadata": {
  "kernelspec": {
   "display_name": "hcf",
   "language": "python",
   "name": "hcf"
  },
  "language_info": {
   "codemirror_mode": {
    "name": "ipython",
    "version": 3
   },
   "file_extension": ".py",
   "mimetype": "text/x-python",
   "name": "python",
   "nbconvert_exporter": "python",
   "pygments_lexer": "ipython3",
   "version": "3.10.0"
  }
 },
 "nbformat": 4,
 "nbformat_minor": 5
}
