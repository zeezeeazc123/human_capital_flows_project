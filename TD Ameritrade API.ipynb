{
 "cells": [
  {
   "cell_type": "code",
   "execution_count": null,
   "id": "a2403669",
   "metadata": {},
   "outputs": [],
   "source": [
    "from tda.auth import client_from_login_flow\n",
    "from tda.client import Client\n",
    "from selenium import webdriver\n",
    "\n",
    "\n",
    "c = client_from_login_flow(\n",
    "        webdriver = webdriver.Chrome('C:\\\\Users\\\\zeeze\\\\AppData\\\\Roaming\\\\chromedriver\\\\chromedriver.exe'),\n",
    "        api_key='H4OVSVQ890NQAQAWVDN5CJEJCTAE0GRK',\n",
    "        redirect_url='https://localhost',\n",
    "        token_path='/tmp/token.json')"
   ]
  },
  {
   "cell_type": "code",
   "execution_count": null,
   "id": "ef10d8c6",
   "metadata": {},
   "outputs": [],
   "source": []
  }
 ],
 "metadata": {
  "kernelspec": {
   "display_name": "hcf",
   "language": "python",
   "name": "hcf"
  },
  "language_info": {
   "codemirror_mode": {
    "name": "ipython",
    "version": 3
   },
   "file_extension": ".py",
   "mimetype": "text/x-python",
   "name": "python",
   "nbconvert_exporter": "python",
   "pygments_lexer": "ipython3",
   "version": "3.10.0"
  }
 },
 "nbformat": 4,
 "nbformat_minor": 5
}
